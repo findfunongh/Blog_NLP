{
 "cells": [
  {
   "cell_type": "markdown",
   "metadata": {},
   "source": [
    "########################\n",
    "########case 1 数字组合\n",
    "total=0 #因为python 从0开始算， \n",
    "for i in range(1,5):#注意是1，2，3，4。5是上限不会取到\n",
    "    for j in range(1,5):\n",
    "        for k in range(1,5):\n",
    "            if ((i!=j)and(j!=k)and(k!=i)):\n",
    "                print(i,j,k)\n",
    "                total+=1#累加， 求总共有多少组合，自加运算\n",
    "print(total)\n",
    "\n",
    "\n",
    "\n"
   ]
  },
  {
   "cell_type": "markdown",
   "metadata": {},
   "source": []
  },
  {
   "cell_type": "code",
   "execution_count": null,
   "metadata": {},
   "outputs": [],
   "source": [
    "#############\n",
    "#######方法2###########\n",
    "\n",
    "import itertools #迭代函数\n",
    "total2=0\n",
    "a=(1,2,3,4)\n",
    "print(type(a))\n",
    "for i in itertools.permutations(a,3):#可能的组合排列，无序，从a 范围中抽取3个数字任意组合\n",
    "    print(i)\n",
    "    total2+=1\n",
    "print(total2)"
   ]
  },
  {
   "cell_type": "code",
   "execution_count": null,
   "metadata": {},
   "outputs": [],
   "source": [
    "#####################################################"
   ]
  },
  {
   "cell_type": "code",
   "execution_count": 6,
   "metadata": {},
   "outputs": [
    {
     "name": "stdout",
     "output_type": "stream",
     "text": [
      "Show me the money: 90000\n",
      "9000.0\n"
     ]
    }
   ],
   "source": [
    "##############################case2#################\n",
    "profit=int(input('Show me the money: '))\n",
    "bonus=0\n",
    "thresholds=[100000,100000,200000,200000,400000]\n",
    "rates=[0.1,0.075,0.05,0.03,0.015,0.01]\n",
    "for i in range(len(thresholds)):\n",
    "    if profit<=thresholds[i]:\n",
    "        bonus+=profit*rates[i]\n",
    "        profit=0\n",
    "        break\n",
    "    else:\n",
    "        bonus+=thresholds[i]*rates[i]\n",
    "        profit-=thresholds[i]\n",
    "bonus+=profit*rates[-1]\n",
    "print(bonus)"
   ]
  },
  {
   "cell_type": "code",
   "execution_count": null,
   "metadata": {},
   "outputs": [],
   "source": []
  }
 ],
 "metadata": {
  "kernelspec": {
   "display_name": "Python 3",
   "language": "python",
   "name": "python3"
  },
  "language_info": {
   "codemirror_mode": {
    "name": "ipython",
    "version": 3
   },
   "file_extension": ".py",
   "mimetype": "text/x-python",
   "name": "python",
   "nbconvert_exporter": "python",
   "pygments_lexer": "ipython3",
   "version": "3.7.4"
  }
 },
 "nbformat": 4,
 "nbformat_minor": 2
}
